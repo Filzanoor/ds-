{
 "cells": [
  {
   "cell_type": "markdown",
   "metadata": {},
   "source": [
    "# OCR SYSTEM"
   ]
  },
  {
   "cell_type": "markdown",
   "metadata": {},
   "source": [
    "#### Import Libraries"
   ]
  },
  {
   "cell_type": "code",
   "execution_count": 6,
   "metadata": {},
   "outputs": [],
   "source": [
    "%matplotlib inline\n",
    "import numpy as np\n",
    "from matplotlib import pyplot as plt\n",
    "import pandas as pd"
   ]
  },
  {
   "cell_type": "markdown",
   "metadata": {},
   "source": [
    "#### Import sample images"
   ]
  },
  {
   "cell_type": "code",
   "execution_count": 7,
   "metadata": {},
   "outputs": [
    {
     "data": {
      "image/png": "[encoded data removed]",
      "text/plain": [
       "<Figure size 640x480 with 2 Axes>"
      ]
     },
     "metadata": {},
     "output_type": "display_data"
    }
   ],
   "source": [
    "img2=np.array([0,0,0,0,0,0,0,0,0,0,0,0,0,0,0,0,0,0,1,1,1,0,0,0,0,0,0,0,0,0,0,0,0,1,1,0,0,0,0,0,0,0,0,\n",
    "0,0,1,0,0,1,0,0,0,0,0,0,0,0,0,0,0,1,1,0,0,1,0,0,0,0,0,0,0,0,0,0,0,1,1,0,0,1,0,0,0,0,0,0,0,0,0,0,0,1,\n",
    "1,1,0,1,0,0,0,0,0,0,0,0,0,0,1,1,0,1,0,1,0,0,0,0,0,0,0,0,0,0,1,0,0,1,0,1,0,0,0,0,0,0,0,0,0,1,0,0,0,1,\n",
    "0,1,1,1,1,1,1,1,1,1,1,1,0,0,0,1,1,0,0,0,0,0,0,0,0,0,0,0,0,0,0,0,1,0,0,0,0,0,0,0,0,0,0,0,0,0,0,0,1,0,\n",
    "0,0,0,0,0,0,0,0,0,0,0,0,0,0,1,0,0,0,0,0,0,0,0,0,0,0,0,0,0,0,1,0,0,0,0,0,0,0,0,0,0,0,0,0,0,0,1,0,0,0,\n",
    "0,0,0,0,0,0,0,0,0,0,0,0,0],dtype=np.uint8)\n",
    "\n",
    "img4=np.array([0,0,0,0,0,0,0,0,0,0,0,0,0,0,0,0,0,0,0,0,0,0,0,0,0,0,0,0,0,0,0,0,0,0,0,0,0,0,0,1,0,0,0,\n",
    "0,0,0,0,0,1,1,1,1,1,1,1,1,0,0,0,0,0,0,0,0,0,0,0,0,0,0,0,1,0,0,0,0,0,0,0,1,0,0,0,0,0,0,0,1,0,0,0,0,0,\n",
    "1,1,1,0,0,0,0,0,0,1,0,0,0,1,1,1,0,0,0,0,0,0,0,0,0,1,0,0,1,1,0,0,0,0,0,0,0,0,0,0,0,1,1,1,0,0,0,0,0,0,\n",
    "0,0,1,1,1,1,1,1,0,0,0,0,0,0,0,0,0,1,1,0,0,0,1,0,0,0,0,0,0,0,0,0,0,0,0,0,0,0,1,0,0,0,0,0,0,0,0,0,0,0,\n",
    "0,0,0,1,1,0,0,0,0,0,0,0,0,0,0,0,0,0,0,0,1,0,0,0,0,0,0,0,0,0,0,0,0,0,0,0,0,0,0,0,0,0,0,0,0,0,0,0,0,0,\n",
    "0,0,0,0,0,0,0,0,0,0,0,0,0],dtype=np.uint8)\n",
    "\n",
    "img = np.reshape(img4,(16,16),order= 'F')\n",
    "img1 = np.reshape(img2,(16,16),order= 'F')\n",
    "\n",
    "fig, axes = plt.subplots(1, 2)\n",
    "axes[0].imshow(img)\n",
    "axes[0].set_title('Image of 4')\n",
    "axes[1].imshow(img1)\n",
    "axes[1].set_title('Image of 2')\n",
    "\n",
    "plt.tight_layout()\n",
    "\n",
    "plt.show()"
   ]
  },
  {
   "cell_type": "markdown",
   "metadata": {},
   "source": [
    "## Import Data from the Files"
   ]
  },
  {
   "cell_type": "markdown",
   "metadata": {},
   "source": [
    "#### Training Data"
   ]
  },
  {
   "cell_type": "code",
   "execution_count": 8,
   "metadata": {},
   "outputs": [
    {
     "name": "stdout",
     "output_type": "stream",
     "text": [
      "Shape of X_train (500, 256)\n",
      "Shape of Y_train (500,)\n"
     ]
    }
   ],
   "source": [
    "# to import data from trainx\n",
    "trainXd = np.loadtxt(\"trainX.txt\")\n",
    "# to import data from trainy\n",
    "trainYd = np.loadtxt(\"trainY.txt\")\n",
    "# print(trainXd)\n",
    "# print(trainXd)\n",
    "# to print require output rows and cols\n",
    "print(\"Shape of X_train\",np.shape(trainXd))\n",
    "print(\"Shape of Y_train\",np.shape(trainYd))"
   ]
  },
  {
   "cell_type": "markdown",
   "metadata": {},
   "source": [
    "Expected Output <br>\n",
    "- Shape of X_train : (500, 256) <br>\n",
    "- Shape of y_train : (500,)"
   ]
  },
  {
   "cell_type": "markdown",
   "metadata": {},
   "source": [
    "### Testing Data"
   ]
  },
  {
   "cell_type": "code",
   "execution_count": 9,
   "metadata": {},
   "outputs": [
    {
     "name": "stdout",
     "output_type": "stream",
     "text": [
      "(100, 256) (100,)\n"
     ]
    }
   ],
   "source": [
    "# to import data from testx\n",
    "testXd = np.loadtxt(\"testX.txt\")\n",
    "# to import data from testy\n",
    "testYd = np.loadtxt(\"testY.txt\")\n",
    "# print(testXd)\n",
    "# print(testYd)\n",
    "# to print require output rows and cols\n",
    "print(np.shape(testXd),np.shape(testYd))"
   ]
  },
  {
   "cell_type": "markdown",
   "metadata": {},
   "source": [
    "Expected Output <br>\n",
    "- Shape of X_train : (100, 256) <br>\n",
    "- Shape of y_train : (100,)\n"
   ]
  },
  {
   "cell_type": "markdown",
   "metadata": {},
   "source": [
    "### Dividing Data W.R.T its Classes"
   ]
  },
  {
   "cell_type": "markdown",
   "metadata": {},
   "source": [
    "##### Training Data"
   ]
  },
  {
   "cell_type": "code",
   "execution_count": 10,
   "metadata": {},
   "outputs": [
    {
     "name": "stdout",
     "output_type": "stream",
     "text": [
      "(250, 256) (250, 256)\n"
     ]
    }
   ],
   "source": [
    "#AS we know first 250 images are of 2 so we will take first 250 images from X_train\n",
    "#your code here\n",
    "img2_X_train = trainXd[0:250,:]\n",
    "img4_X_train =trainXd[250:,:]\n",
    "# print(img2_X_train)\n",
    "# print(img4_X_train)\n",
    "print(img2_X_train.shape,img4_X_train.shape)"
   ]
  },
  {
   "cell_type": "markdown",
   "metadata": {},
   "source": [
    "##### Another way\n",
    "You can coment the below code if you dont want to try this effective way and will use the above code to divide the data into classes"
   ]
  },
  {
   "cell_type": "code",
   "execution_count": 11,
   "metadata": {},
   "outputs": [],
   "source": [
    "# #But in case if we didn't know that first 250 images are of 2 then we can use this code\n",
    "# #This img2_X_train will contain only only those images from X_train which have corespondong label of 2 in Y_train\n",
    "# img2_X_train = \n",
    "# img4_X_train = \n",
    "# print(img2_X_train.shape)\n",
    "# print(img4_X_train.shape)"
   ]
  },
  {
   "cell_type": "markdown",
   "metadata": {},
   "source": [
    "Expected Output <br>\n",
    "- Shape of X_train : (250, 256) <br>\n",
    "- Shape of y_train : (250, 256)\n"
   ]
  },
  {
   "cell_type": "markdown",
   "metadata": {},
   "source": [
    "##### Testing Data"
   ]
  },
  {
   "cell_type": "code",
   "execution_count": 12,
   "metadata": {},
   "outputs": [
    {
     "name": "stdout",
     "output_type": "stream",
     "text": [
      "(50, 256)\n",
      "(50, 256)\n"
     ]
    }
   ],
   "source": [
    "img2_X_test = testXd[0:50,:]\n",
    "img4_X_test = testXd[50:,:]\n",
    "print(img2_X_test.shape)\n",
    "# print(img2_X_test)\n",
    "print(img4_X_test.shape)"
   ]
  },
  {
   "cell_type": "markdown",
   "metadata": {},
   "source": [
    "Expected Output <br>\n",
    "- Shape of X_train : (50, 256) <br>\n",
    "- Shape of y_train : (50, 256)\n"
   ]
  },
  {
   "cell_type": "markdown",
   "metadata": {},
   "source": [
    "### Finding the Probabilities"
   ]
  },
  {
   "cell_type": "markdown",
   "metadata": {},
   "source": [
    "### Training Data"
   ]
  },
  {
   "cell_type": "markdown",
   "metadata": {},
   "source": [
    "##### Probabailty of 1s and 0s"
   ]
  },
  {
   "cell_type": "code",
   "execution_count": 13,
   "metadata": {},
   "outputs": [
    {
     "name": "stdout",
     "output_type": "stream",
     "text": [
      "(256,)\n",
      "(256,)\n",
      "(256,)\n",
      "(256,)\n"
     ]
    }
   ],
   "source": [
    "# Calculate probabilities for images of digit 2\n",
    "# axis =0 because calculationg along the rows\n",
    "# In NumPy arrays representing images, each row corresponds to an image, and each column corresponds to a pixel in that image. Therefore, taking the mean along the rows \n",
    "img2_one_prob = np.mean(img2_X_train, axis=0)\n",
    "img2_zero_prob = 1 - img2_one_prob  # Since it's the complement\n",
    "\n",
    "# Calculate probabilities for images of digit 4\n",
    "img4_one_prob = np.mean(img4_X_train, axis=0)\n",
    "img4_zero_prob = 1 - img4_one_prob  # Since it's the complement\n",
    "\n",
    "# Output shapes of probabilities\n",
    "print(img2_one_prob.shape)\n",
    "print( img2_zero_prob.shape)\n",
    "print(img4_one_prob.shape)\n",
    "print(img4_zero_prob.shape)"
   ]
  },
  {
   "cell_type": "markdown",
   "metadata": {},
   "source": [
    "Expected Output <br>\n",
    "- (256,)\n",
    "- (256,)\n",
    "- (256,)\n",
    "- (256,)\n"
   ]
  },
  {
   "cell_type": "markdown",
   "metadata": {},
   "source": [
    "#### Class Probabilities"
   ]
  },
  {
   "cell_type": "code",
   "execution_count": 14,
   "metadata": {},
   "outputs": [
    {
     "name": "stdout",
     "output_type": "stream",
     "text": [
      "0.5 0.5\n"
     ]
    }
   ],
   "source": [
    "# Your code here\n",
    "# Count occurrences of class 2 and 4\n",
    "class_2_count = np.sum(trainYd == 2)\n",
    "class_4_count = np.sum(trainYd == 4)\n",
    "# print(class_2_count)\n",
    "# print(class_4_count)\n",
    "# Calculate class probabilities\n",
    "total_samples = trainYd.shape[0]\n",
    "# print(total_samples)\n",
    "class_2_prob = class_2_count / total_samples\n",
    "class_4_prob = class_4_count / total_samples\n",
    "# Display class probabilities\n",
    "print(class_2_prob , class_4_prob)\n",
    "\n"
   ]
  },
  {
   "cell_type": "markdown",
   "metadata": {},
   "source": [
    "#### Predictions"
   ]
  },
  {
   "cell_type": "code",
   "execution_count": 15,
   "metadata": {},
   "outputs": [
    {
     "name": "stdout",
     "output_type": "stream",
     "text": [
      " MY Predictions for OCR: (500,)\n"
     ]
    }
   ],
   "source": [
    "#calculate probability of each data sample for each class\n",
    "likelihood = np.prod(np.where(trainXd==1, img2_one_prob, img2_zero_prob), axis=1)\n",
    "likelihood = np.prod(np.where(trainXd==1, img4_one_prob, img4_zero_prob), axis=1)\n",
    "\n",
    "#calculate the posterior probability of each class for each test sample\n",
    "p2 = likelihood * class_2_prob \n",
    "p4 = likelihood * class_4_prob \n",
    "\n",
    "#make predictions on the class with the higher posterior probability\n",
    "predictions = np.where(p2 > p4, 2, 4)\n",
    "# Print the predictions\n",
    "print(\" MY Predictions for OCR:\", predictions.shape)"
   ]
  },
  {
   "cell_type": "markdown",
   "metadata": {},
   "source": [
    "#### Overall Accuracy"
   ]
  },
  {
   "cell_type": "code",
   "execution_count": 17,
   "metadata": {},
   "outputs": [
    {
     "name": "stdout",
     "output_type": "stream",
     "text": [
      "TP = 0\n",
      "FP = 0\n",
      "FN = 250\n",
      "TN = 250\n",
      "\n",
      "Overall Accuracy =  0.5\n"
     ]
    }
   ],
   "source": [
    "# Your code here\n",
    "predictions_reshaped = predictions \n",
    "\n",
    "# Define the actual labels based on the testing data\n",
    "actual_labels = trainYd  # Adjust the shape to match predictions_reshaped\n",
    "\n",
    "# confusion matrix values based on the predictions and actual labels\n",
    "TP = np.sum(np.logical_and(predictions_reshaped == 2, actual_labels == 2))# TO CHECK TRUE OR FALSE\n",
    "FP = np.sum(np.logical_and(predictions_reshaped == 2, actual_labels == 4))\n",
    "FN = np.sum(np.logical_and(predictions_reshaped == 4, actual_labels == 2))\n",
    "TN = np.sum(np.logical_and(predictions_reshaped == 4, actual_labels == 4))\n",
    "\n",
    "# Calculate overall accuracy\n",
    "accuracy = (TP + TN) / (TP + FP + FN + TN)\n",
    "\n",
    "print(\"TP =\", TP)\n",
    "print(\"FP =\", FP)\n",
    "print(\"FN =\", FN)\n",
    "print(\"TN =\", TN)\n",
    "overall_Accuracy = (TP+TN)/(TP+TN+FP+FN)\n",
    "print(\"\\nOverall Accuracy = \", overall_Accuracy)"
   ]
  },
  {
   "cell_type": "markdown",
   "metadata": {},
   "source": [
    "Expected Output \n",
    "<br><br>\n",
    "**Confusion Matrix**\n",
    "<br>\n",
    "TP =  248 \tFP =  4\n",
    "<br>\n",
    "FN =  2 \tTN =  246\n",
    "<br>\n",
    "- Overall Accuracy =  0.988"
   ]
  },
  {
   "cell_type": "markdown",
   "metadata": {},
   "source": [
    "#### Classwise Accuracy"
   ]
  },
  {
   "cell_type": "code",
   "execution_count": 18,
   "metadata": {},
   "outputs": [
    {
     "name": "stdout",
     "output_type": "stream",
     "text": [
      "Total accuracy of Training data given class 2:  1.0\n",
      "Total accuracy of Training data given class 4:  0.0\n"
     ]
    }
   ],
   "source": [
    "# Your code here\n",
    "class2_train_total_accuracy = TN / (TN + FP)\n",
    "class4_train_total_accuracy = TP / (TP+FN)\n",
    "\n",
    "print(\"Total accuracy of Training data given class 2: \", class2_train_total_accuracy)\n",
    "print(\"Total accuracy of Training data given class 4: \" , class4_train_total_accuracy)"
   ]
  },
  {
   "cell_type": "markdown",
   "metadata": {},
   "source": [
    "Expected Output <br>\n",
    "\n",
    "- Total accuracy of Training data given class 2:  0.984\n",
    "<br>\n",
    "- Total accuracy of Training data given class 4:  0.992"
   ]
  },
  {
   "cell_type": "markdown",
   "metadata": {},
   "source": [
    "### FOR TESTING DATA"
   ]
  },
  {
   "cell_type": "markdown",
   "metadata": {},
   "source": [
    "##### Probabailty of 1s and 0s"
   ]
  },
  {
   "cell_type": "code",
   "execution_count": 14,
   "metadata": {},
   "outputs": [
    {
     "name": "stdout",
     "output_type": "stream",
     "text": [
      "(256,)\n",
      "(256,)\n",
      "(256,)\n",
      "(256,)\n"
     ]
    }
   ],
   "source": [
    "#Calculate probabilities for images of 4\n",
    "img2_one_prob = np.mean(img2_X_test, axis=0)\n",
    "img2_zero_prob = 1 - img2_one_prob  # Since it's the complement\n",
    "\n",
    "# Calculate probabilities for images of 4\n",
    "img4_one_prob = np.mean(img4_X_test, axis=0)\n",
    "img4_zero_prob = 1 - img4_one_prob \n",
    "\n",
    "print(img2_one_prob.shape)\n",
    "print(img2_zero_prob.shape)\n",
    "print(img4_one_prob.shape)\n",
    "print(img4_zero_prob.shape)"
   ]
  },
  {
   "cell_type": "markdown",
   "metadata": {},
   "source": [
    "#### Class Probabilities"
   ]
  },
  {
   "cell_type": "code",
   "execution_count": 15,
   "metadata": {},
   "outputs": [
    {
     "data": {
      "text/plain": [
       "(0.5, 0.5)"
      ]
     },
     "execution_count": 15,
     "metadata": {},
     "output_type": "execute_result"
    }
   ],
   "source": [
    "# Count occurrences of class 2 and 4\n",
    "class_2_count = np.sum(testYd == 2)\n",
    "class_4_count = np.sum(testYd == 4)\n",
    "\n",
    "# Calculate class probabilities\n",
    "total_samples = testYd.shape[0]\n",
    "\n",
    "class_2_prob = class_2_count / total_samples\n",
    "class_4_prob = class_4_count / total_samples\n",
    "# Display class probabilities\n",
    "print(class_2_prob, class_4_prob)\n",
    "\n"
   ]
  },
  {
   "cell_type": "markdown",
   "metadata": {},
   "source": [
    "#### Predictions"
   ]
  },
  {
   "cell_type": "code",
   "execution_count": 16,
   "metadata": {},
   "outputs": [
    {
     "name": "stdout",
     "output_type": "stream",
     "text": [
      "Predictions: (100,)\n"
     ]
    }
   ],
   "source": [
    "#calculate probability of each data sample for each class\n",
    "likelihood = np.prod(np.where(testXd==1, img2_one_prob, img2_zero_prob), axis=1)\n",
    "likelihood = np.prod(np.where(testXd==1, img4_one_prob, img4_zero_prob), axis=1)\n",
    "\n",
    "#posterior probability of each class for each test sample\n",
    "p2 = likelihood * class_2_prob \n",
    "p4 = likelihood * class_4_prob \n",
    "\n",
    "#make predictions on the class with larger values\n",
    "predictions = np.where(p2 > p4, 2, 4)\n",
    "# predictions\n",
    "print(\"Predictions:\", predictions.shape)"
   ]
  },
  {
   "cell_type": "markdown",
   "metadata": {},
   "source": [
    "#### Classwise Accuracy"
   ]
  },
  {
   "cell_type": "code",
   "execution_count": 17,
   "metadata": {},
   "outputs": [
    {
     "name": "stdout",
     "output_type": "stream",
     "text": [
      "Total accuracy of Testing data given class 2:  1.0\n",
      "Total accuracy of Testing data given class 4:  1.0\n"
     ]
    }
   ],
   "source": [
    "# your code here\n",
    "TP = np.sum((predictions == 4) & (testYd == 4))#T Poitive\n",
    "FN = np.sum((predictions == 2) & (testYd == 4))#F Negative\n",
    "TN = np.sum((predictions == 2) & (testYd == 2))#T Negative\n",
    "FP = np.sum((predictions == 4) & (testYd == 2))#F Positive\n",
    "\n",
    "class2_test_total_accuracy = TN / (TN + FP)# to find accuracy\n",
    "class4_test_total_accuracy = TP / (TP+FN)# to find accuracy\n",
    "\n",
    "print(\"Total accuracy of Testing data given class 2: \", class2_test_total_accuracy)\n",
    "print(\"Total accuracy of Testing data given class 4: \", class4_test_total_accuracy)"
   ]
  },
  {
   "cell_type": "markdown",
   "metadata": {},
   "source": [
    "Expected Output <br>\n",
    "\n",
    "- Total accuracy of Testing data given class 2:  1.0\n",
    "<br>\n",
    "- Total accuracy of Testing data given class 4:  1.0"
   ]
  },
  {
   "cell_type": "markdown",
   "metadata": {},
   "source": [
    "#### Overall Accuracy"
   ]
  },
  {
   "cell_type": "code",
   "execution_count": 19,
   "metadata": {},
   "outputs": [
    {
     "name": "stdout",
     "output_type": "stream",
     "text": [
      "TP = 50\n",
      "FP = 0\n",
      "FN = 0\n",
      "TN = 50\n",
      "\n",
      "Overall Accuracy =  1.0\n"
     ]
    }
   ],
   "source": [
    "# your code h# Assuming predictions contain 500 rows, we take the first 100 rows\n",
    "predictions_reshaped = predictions[:100]  \n",
    "\n",
    "# Define the actual labels based on the testing data\n",
    "actual_labels = testYd[:100]  # Adjust the shape to match predictions_reshaped\n",
    "\n",
    "# Define the confusion matrix values based on the predictions and actual labels\n",
    "TP = np.sum(np.logical_and(predictions_reshaped == 2, actual_labels == 2))\n",
    "FP = np.sum(np.logical_and(predictions_reshaped == 2, actual_labels == 4))\n",
    "FN = np.sum(np.logical_and(predictions_reshaped == 4, actual_labels == 2))\n",
    "TN = np.sum(np.logical_and(predictions_reshaped == 4, actual_labels == 4))\n",
    "\n",
    "# Calculate overall accuracy\n",
    "accuracy = (TP + TN) / (TP + FP + FN + TN)\n",
    "\n",
    "# Print confusion matrix values\n",
    "print(\"TP =\", TP)\n",
    "print(\"FP =\", FP)\n",
    "print(\"FN =\", FN)\n",
    "print(\"TN =\", TN)\n",
    "print(\"Overall Accuracy\",accuracy)"
   ]
  },
  {
   "cell_type": "markdown",
   "metadata": {},
   "source": [
    "Expected Output \n",
    "<br><br>\n",
    "**Confusion Matrix**\n",
    "<br>\n",
    "TP =  50 \tFP =  0\n",
    "<br>\n",
    "FN =  0 \tTN =  50\n",
    "<br>\n",
    "- Overall Accuracy =  1.0"
   ]
  },
  {
   "cell_type": "markdown",
   "metadata": {},
   "source": [
    "### Plot your Test pixels/features in form of image to correctly identify whether our model is giving correct results"
   ]
  },
  {
   "cell_type": "markdown",
   "metadata": {},
   "source": [
    "2 plots for each class"
   ]
  },
  {
   "cell_type": "code",
   "execution_count": 20,
   "metadata": {},
   "outputs": [
    {
     "data": {
      "text/plain": [
       "(256,)"
      ]
     },
     "execution_count": 20,
     "metadata": {},
     "output_type": "execute_result"
    }
   ],
   "source": [
    "# to check two diferent imgs\n",
    "pic1_2 = 6\n",
    "pic2_2 = 20\n",
    "pic1_4 = 79\n",
    "pic2_4 = 54\n",
    "    \n",
    "        \n",
    "img1_2 = testXd[pic1_2]\n",
    "img2_2 = testXd[pic2_2]\n",
    "img1_4 = testXd[pic1_4]\n",
    "img2_4 = testXd[pic2_4]\n",
    "\n",
    "\n",
    "\n",
    "img2_4.shape"
   ]
  },
  {
   "cell_type": "code",
   "execution_count": 22,
   "metadata": {},
   "outputs": [
    {
     "data": {
      "image/png": "[encoded data removed]",
      "text/plain": [
       "<Figure size 640x480 with 2 Axes>"
      ]
     },
     "metadata": {},
     "output_type": "display_data"
    }
   ],
   "source": [
    "#given by sir \n",
    "img1 = np.reshape(img1_4,(16,16),order= 'F')\n",
    "img2 = np.reshape(img2_4,(16,16),order= 'F')\n",
    "\n",
    "fig, axes = plt.subplots(1, 2)\n",
    "axes[0].imshow(img1)\n",
    "axes[0].set_title('Image of 4')\n",
    "axes[1].imshow(img2)\n",
    "axes[1].set_title('Image of 4')\n",
    "\n",
    "plt.tight_layout()\n",
    "\n",
    "plt.show()"
   ]
  },
  {
   "cell_type": "code",
   "execution_count": 29,
   "metadata": {},
   "outputs": [
    {
     "data": {
      "image/png": "[encoded data removed]",
      "text/plain": [
       "<Figure size 640x480 with 2 Axes>"
      ]
     },
     "metadata": {},
     "output_type": "display_data"
    }
   ],
   "source": [
    "img1 = np.reshape(img1_2,(16,16),order= 'F')\n",
    "img2 = np.reshape(img2_2,(16,16),order= 'F')\n",
    "\n",
    "fig, axes = plt.subplots(1, 2)\n",
    "axes[0].imshow(img1)\n",
    "axes[0].set_title('Image of 2')\n",
    "axes[1].imshow(img2)\n",
    "axes[1].set_title('Image of 2')\n",
    "\n",
    "plt.tight_layout()\n",
    "\n",
    "plt.show()"
   ]
  },
  {
   "cell_type": "code",
   "execution_count": null,
   "metadata": {},
   "outputs": [],
   "source": []
  },
  {
   "cell_type": "markdown",
   "metadata": {},
   "source": [
    "Your Oppinion on the results about why naive bayes worked well for  this OCR\n",
    "and give one example where naive bayes can not be used\n"
   ]
  },
  {
   "cell_type": "markdown",
   "metadata": {},
   "source": [
    "Solution :"
   ]
  },
  {
   "cell_type": "markdown",
   "metadata": {},
   "source": [
    "Naive Byaes worked well for this OCR beacuse of independency.Naive Bayes classifiers assume that features are conditionally independent given the class label. In OCR, the features could be the presence or absence of pixels at specific locations in the image.The main feature is  being indedependent.Naive Bayes classifiers are computationally efficient, making them suitable for handling large volumes of image data  \n",
    "Complex Spam emails pattern Naive bayes can not implemnet ( such as sender address etc). It can be correct by Random forest and other deep learning models."
   ]
  },
  {
   "cell_type": "code",
   "execution_count": null,
   "metadata": {},
   "outputs": [],
   "source": []
  }
 ],
 "metadata": {
  "kernelspec": {
   "display_name": "Python 3 (ipykernel)",
   "language": "python",
   "name": "python3"
  },
  "language_info": {
   "codemirror_mode": {
    "name": "ipython",
    "version": 3
   },
   "file_extension": ".py",
   "mimetype": "text/x-python",
   "name": "python",
   "nbconvert_exporter": "python",
   "pygments_lexer": "ipython3",
   "version": "3.9.13"
  }
 },
 "nbformat": 4,
 "nbformat_minor": 2
}
